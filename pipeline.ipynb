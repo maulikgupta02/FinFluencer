{
 "cells": [
  {
   "cell_type": "code",
   "execution_count": 20,
   "metadata": {},
   "outputs": [],
   "source": [
    "import pandas as pd\n",
    "import numpy as np"
   ]
  },
  {
   "cell_type": "code",
   "execution_count": 21,
   "metadata": {},
   "outputs": [
    {
     "data": {
      "text/html": [
       "<div>\n",
       "<style scoped>\n",
       "    .dataframe tbody tr th:only-of-type {\n",
       "        vertical-align: middle;\n",
       "    }\n",
       "\n",
       "    .dataframe tbody tr th {\n",
       "        vertical-align: top;\n",
       "    }\n",
       "\n",
       "    .dataframe thead th {\n",
       "        text-align: right;\n",
       "    }\n",
       "</style>\n",
       "<table border=\"1\" class=\"dataframe\">\n",
       "  <thead>\n",
       "    <tr style=\"text-align: right;\">\n",
       "      <th></th>\n",
       "      <th>Unnamed: 0</th>\n",
       "      <th>prediction</th>\n",
       "      <th>source</th>\n",
       "      <th>stock_info</th>\n",
       "      <th>datetime</th>\n",
       "    </tr>\n",
       "  </thead>\n",
       "  <tbody>\n",
       "    <tr>\n",
       "      <th>0</th>\n",
       "      <td>0</td>\n",
       "      <td>Buy KEI Industries, target price Rs 5230</td>\n",
       "      <td>Motilal Oswal</td>\n",
       "      <td>KEI Industries Ltd., incorporated in the year ...</td>\n",
       "      <td>Jul 31, 2024, 09:35 AM IST</td>\n",
       "    </tr>\n",
       "    <tr>\n",
       "      <th>1</th>\n",
       "      <td>1</td>\n",
       "      <td>Buy Hindustan Petroleum Corporation, target pr...</td>\n",
       "      <td>Motilal Oswal</td>\n",
       "      <td>Hindustan Petroleum Corporation Ltd., incorpor...</td>\n",
       "      <td>Jul 31, 2024, 09:32 AM IST</td>\n",
       "    </tr>\n",
       "    <tr>\n",
       "      <th>2</th>\n",
       "      <td>2</td>\n",
       "      <td>Buy Tata Consumer Products, target price Rs 1380</td>\n",
       "      <td>Motilal Oswal</td>\n",
       "      <td>Tata Consumer Products Ltd. key Products/Reven...</td>\n",
       "      <td>Jul 31, 2024, 09:28 AM IST</td>\n",
       "    </tr>\n",
       "    <tr>\n",
       "      <th>3</th>\n",
       "      <td>3</td>\n",
       "      <td>Buy Varun Beverages, target price Rs 1850</td>\n",
       "      <td>Motilal Oswal</td>\n",
       "      <td>Varun Beverages Ltd., incorporated in the year...</td>\n",
       "      <td>Jul 31, 2024, 09:25 AM IST</td>\n",
       "    </tr>\n",
       "    <tr>\n",
       "      <th>4</th>\n",
       "      <td>4</td>\n",
       "      <td>Buy Indian Oil Corporation, target price Rs 215</td>\n",
       "      <td>Motilal Oswal</td>\n",
       "      <td>Indian Oil Corporation Ltd., incorporated in t...</td>\n",
       "      <td>Jul 31, 2024, 09:22 AM IST</td>\n",
       "    </tr>\n",
       "  </tbody>\n",
       "</table>\n",
       "</div>"
      ],
      "text/plain": [
       "   Unnamed: 0                                         prediction  \\\n",
       "0           0           Buy KEI Industries, target price Rs 5230   \n",
       "1           1  Buy Hindustan Petroleum Corporation, target pr...   \n",
       "2           2   Buy Tata Consumer Products, target price Rs 1380   \n",
       "3           3          Buy Varun Beverages, target price Rs 1850   \n",
       "4           4    Buy Indian Oil Corporation, target price Rs 215   \n",
       "\n",
       "           source                                         stock_info  \\\n",
       "0   Motilal Oswal  KEI Industries Ltd., incorporated in the year ...   \n",
       "1   Motilal Oswal  Hindustan Petroleum Corporation Ltd., incorpor...   \n",
       "2   Motilal Oswal  Tata Consumer Products Ltd. key Products/Reven...   \n",
       "3   Motilal Oswal  Varun Beverages Ltd., incorporated in the year...   \n",
       "4   Motilal Oswal  Indian Oil Corporation Ltd., incorporated in t...   \n",
       "\n",
       "                     datetime  \n",
       "0  Jul 31, 2024, 09:35 AM IST  \n",
       "1  Jul 31, 2024, 09:32 AM IST  \n",
       "2  Jul 31, 2024, 09:28 AM IST  \n",
       "3  Jul 31, 2024, 09:25 AM IST  \n",
       "4  Jul 31, 2024, 09:22 AM IST  "
      ]
     },
     "execution_count": 21,
     "metadata": {},
     "output_type": "execute_result"
    }
   ],
   "source": [
    "df=pd.read_csv(\"predictions.csv\")\n",
    "# df.drop(labels=[\"Unnamed: 0\"], axis=1, inplace=True)\n",
    "df.head()"
   ]
  },
  {
   "cell_type": "code",
   "execution_count": 22,
   "metadata": {},
   "outputs": [],
   "source": [
    "d={'advice':[],'target':[],'stock':[]}\n",
    "for ID,pred in df.iterrows():\n",
    "    d[\"advice\"].append(pred[\"prediction\"].split()[0])\n",
    "    d['target'].append(pred[\"prediction\"].split()[-1])\n",
    "    temp=pred[\"stock_info\"].split(\",\")[0]\n",
    "    d['stock'].append(temp.split(\".\")[0])"
   ]
  },
  {
   "cell_type": "code",
   "execution_count": 23,
   "metadata": {},
   "outputs": [],
   "source": [
    "df[\"target\"]=d[\"target\"]\n",
    "df[\"advice\"]=d[\"advice\"]\n",
    "df[\"stock\"]=d[\"stock\"]"
   ]
  },
  {
   "cell_type": "code",
   "execution_count": 24,
   "metadata": {},
   "outputs": [
    {
     "data": {
      "text/plain": [
       "array(['Buy', 'Hold', 'Sell', 'Add', 'Reduce', 'Accumulate', 'Neutral'],\n",
       "      dtype=object)"
      ]
     },
     "execution_count": 24,
     "metadata": {},
     "output_type": "execute_result"
    }
   ],
   "source": [
    "df[\"advice\"].unique()"
   ]
  },
  {
   "cell_type": "code",
   "execution_count": 25,
   "metadata": {},
   "outputs": [
    {
     "name": "stderr",
     "output_type": "stream",
     "text": [
      "C:\\Users\\gupta\\AppData\\Local\\Temp\\ipykernel_25544\\287399997.py:1: FutureWarning: A value is trying to be set on a copy of a DataFrame or Series through chained assignment using an inplace method.\n",
      "The behavior will change in pandas 3.0. This inplace method will never work because the intermediate object on which we are setting values always behaves as a copy.\n",
      "\n",
      "For example, when doing 'df[col].method(value, inplace=True)', try using 'df.method({col: value}, inplace=True)' or df[col] = df[col].method(value) instead, to perform the operation inplace on the original object.\n",
      "\n",
      "\n",
      "  df[\"advice\"].replace(to_replace=['Accumulate','Reduce','Add'],value=['buy','sell','buy'],inplace=True)\n"
     ]
    }
   ],
   "source": [
    "df[\"advice\"].replace(to_replace=['Accumulate','Reduce','Add'],value=['buy','sell','buy'],inplace=True)"
   ]
  },
  {
   "cell_type": "code",
   "execution_count": 26,
   "metadata": {},
   "outputs": [
    {
     "data": {
      "text/html": [
       "<div>\n",
       "<style scoped>\n",
       "    .dataframe tbody tr th:only-of-type {\n",
       "        vertical-align: middle;\n",
       "    }\n",
       "\n",
       "    .dataframe tbody tr th {\n",
       "        vertical-align: top;\n",
       "    }\n",
       "\n",
       "    .dataframe thead th {\n",
       "        text-align: right;\n",
       "    }\n",
       "</style>\n",
       "<table border=\"1\" class=\"dataframe\">\n",
       "  <thead>\n",
       "    <tr style=\"text-align: right;\">\n",
       "      <th></th>\n",
       "      <th>Unnamed: 0</th>\n",
       "      <th>prediction</th>\n",
       "      <th>source</th>\n",
       "      <th>stock_info</th>\n",
       "      <th>datetime</th>\n",
       "      <th>target</th>\n",
       "      <th>advice</th>\n",
       "      <th>stock</th>\n",
       "    </tr>\n",
       "  </thead>\n",
       "  <tbody>\n",
       "    <tr>\n",
       "      <th>0</th>\n",
       "      <td>0</td>\n",
       "      <td>Buy KEI Industries, target price Rs 5230</td>\n",
       "      <td>Motilal Oswal</td>\n",
       "      <td>KEI Industries Ltd., incorporated in the year ...</td>\n",
       "      <td>Jul 31, 2024, 09:35 AM IST</td>\n",
       "      <td>5230</td>\n",
       "      <td>Buy</td>\n",
       "      <td>KEI Industries Ltd</td>\n",
       "    </tr>\n",
       "    <tr>\n",
       "      <th>1</th>\n",
       "      <td>1</td>\n",
       "      <td>Buy Hindustan Petroleum Corporation, target pr...</td>\n",
       "      <td>Motilal Oswal</td>\n",
       "      <td>Hindustan Petroleum Corporation Ltd., incorpor...</td>\n",
       "      <td>Jul 31, 2024, 09:32 AM IST</td>\n",
       "      <td>460</td>\n",
       "      <td>Buy</td>\n",
       "      <td>Hindustan Petroleum Corporation Ltd</td>\n",
       "    </tr>\n",
       "    <tr>\n",
       "      <th>2</th>\n",
       "      <td>2</td>\n",
       "      <td>Buy Tata Consumer Products, target price Rs 1380</td>\n",
       "      <td>Motilal Oswal</td>\n",
       "      <td>Tata Consumer Products Ltd. key Products/Reven...</td>\n",
       "      <td>Jul 31, 2024, 09:28 AM IST</td>\n",
       "      <td>1380</td>\n",
       "      <td>Buy</td>\n",
       "      <td>Tata Consumer Products Ltd</td>\n",
       "    </tr>\n",
       "    <tr>\n",
       "      <th>3</th>\n",
       "      <td>3</td>\n",
       "      <td>Buy Varun Beverages, target price Rs 1850</td>\n",
       "      <td>Motilal Oswal</td>\n",
       "      <td>Varun Beverages Ltd., incorporated in the year...</td>\n",
       "      <td>Jul 31, 2024, 09:25 AM IST</td>\n",
       "      <td>1850</td>\n",
       "      <td>Buy</td>\n",
       "      <td>Varun Beverages Ltd</td>\n",
       "    </tr>\n",
       "    <tr>\n",
       "      <th>4</th>\n",
       "      <td>4</td>\n",
       "      <td>Buy Indian Oil Corporation, target price Rs 215</td>\n",
       "      <td>Motilal Oswal</td>\n",
       "      <td>Indian Oil Corporation Ltd., incorporated in t...</td>\n",
       "      <td>Jul 31, 2024, 09:22 AM IST</td>\n",
       "      <td>215</td>\n",
       "      <td>Buy</td>\n",
       "      <td>Indian Oil Corporation Ltd</td>\n",
       "    </tr>\n",
       "  </tbody>\n",
       "</table>\n",
       "</div>"
      ],
      "text/plain": [
       "   Unnamed: 0                                         prediction  \\\n",
       "0           0           Buy KEI Industries, target price Rs 5230   \n",
       "1           1  Buy Hindustan Petroleum Corporation, target pr...   \n",
       "2           2   Buy Tata Consumer Products, target price Rs 1380   \n",
       "3           3          Buy Varun Beverages, target price Rs 1850   \n",
       "4           4    Buy Indian Oil Corporation, target price Rs 215   \n",
       "\n",
       "           source                                         stock_info  \\\n",
       "0   Motilal Oswal  KEI Industries Ltd., incorporated in the year ...   \n",
       "1   Motilal Oswal  Hindustan Petroleum Corporation Ltd., incorpor...   \n",
       "2   Motilal Oswal  Tata Consumer Products Ltd. key Products/Reven...   \n",
       "3   Motilal Oswal  Varun Beverages Ltd., incorporated in the year...   \n",
       "4   Motilal Oswal  Indian Oil Corporation Ltd., incorporated in t...   \n",
       "\n",
       "                     datetime target advice  \\\n",
       "0  Jul 31, 2024, 09:35 AM IST   5230    Buy   \n",
       "1  Jul 31, 2024, 09:32 AM IST    460    Buy   \n",
       "2  Jul 31, 2024, 09:28 AM IST   1380    Buy   \n",
       "3  Jul 31, 2024, 09:25 AM IST   1850    Buy   \n",
       "4  Jul 31, 2024, 09:22 AM IST    215    Buy   \n",
       "\n",
       "                                 stock  \n",
       "0                   KEI Industries Ltd  \n",
       "1  Hindustan Petroleum Corporation Ltd  \n",
       "2           Tata Consumer Products Ltd  \n",
       "3                  Varun Beverages Ltd  \n",
       "4           Indian Oil Corporation Ltd  "
      ]
     },
     "execution_count": 26,
     "metadata": {},
     "output_type": "execute_result"
    }
   ],
   "source": [
    "df.head()"
   ]
  },
  {
   "cell_type": "code",
   "execution_count": 27,
   "metadata": {},
   "outputs": [
    {
     "data": {
      "text/plain": [
       "stock\n",
       "Hindustan Petroleum Corporation Ltd    3\n",
       "Varun Beverages Ltd                    3\n",
       "Avenue Supermarts Ltd                  3\n",
       "SBI Life Insurance Company Ltd         3\n",
       "ICICI Bank Ltd                         3\n",
       "                                      ..\n",
       "Natco Pharma Ltd                       1\n",
       "Syrma SGS Technology Ltd               1\n",
       "Kaynes Technology India Ltd            1\n",
       "Bharat Electronics Ltd                 1\n",
       "ITC Ltd                                1\n",
       "Name: count, Length: 182, dtype: int64"
      ]
     },
     "execution_count": 27,
     "metadata": {},
     "output_type": "execute_result"
    }
   ],
   "source": [
    "df[\"stock\"].value_counts()"
   ]
  },
  {
   "cell_type": "code",
   "execution_count": 28,
   "metadata": {},
   "outputs": [],
   "source": [
    "from selenium import webdriver\n",
    "from selenium.webdriver.common.by import By\n",
    "from selenium.webdriver.chrome.options import Options\n",
    "from selenium.webdriver.support.ui import WebDriverWait\n",
    "from selenium.webdriver.support import expected_conditions as EC\n",
    "import time\n",
    "\n",
    "\n",
    "def get_stock_code(stock_name):\n",
    "\n",
    "    path=\"https://finance.yahoo.com/quote/0A7M.L/\"\n",
    "\n",
    "    chrome_options = Options()\n",
    "    chrome_options.add_argument('--incognito')\n",
    "    chrome_options.add_argument('--headless')\n",
    "\n",
    "    driver=webdriver.Chrome(options=chrome_options)\n",
    "\n",
    "    driver.get(path)\n",
    "\n",
    "    time.sleep(3)\n",
    "    search = WebDriverWait(driver, 10).until(\n",
    "            EC.presence_of_element_located((By.ID, \"ybar-sbq\"))\n",
    "        )\n",
    "    search.send_keys(stock_name)\n",
    "\n",
    "        # Click on the search button\n",
    "    submit = WebDriverWait(driver, 10).until(\n",
    "            EC.element_to_be_clickable((By.ID, \"ybar-search\"))\n",
    "        )\n",
    "    submit.click()\n",
    "    time.sleep(2)\n",
    "    try:\n",
    "        stock_code = WebDriverWait(driver, 10).until(\n",
    "                EC.presence_of_element_located((By.CLASS_NAME,\"yf-3a2v0c\"))\n",
    "            ).text\n",
    "    except Exception:\n",
    "        return False\n",
    "\n",
    "    return stock_code\n",
    "\n",
    "codes={}\n",
    "for stock_name in df[\"stock\"].unique():\n",
    "    if (df[\"stock\"] == stock_name).sum() > 0:\n",
    "        stock_code = get_stock_code(stock_name=stock_name)\n",
    "        if stock_code:\n",
    "            stock_code=stock_code.split(\" (\")[1].split(\")\")[0]\n",
    "            print(stock_code)\n",
    "            codes[stock_name]=stock_code"
   ]
  },
  {
   "cell_type": "code",
   "execution_count": null,
   "metadata": {},
   "outputs": [
    {
     "data": {
      "text/plain": [
       "{}"
      ]
     },
     "execution_count": 10,
     "metadata": {},
     "output_type": "execute_result"
    }
   ],
   "source": [
    "codes"
   ]
  },
  {
   "cell_type": "code",
   "execution_count": null,
   "metadata": {},
   "outputs": [],
   "source": [
    "filtered_df=df[(df[\"stock\"].isin(list(codes.keys())))]# & (df[\"datetime\"]<\"Jul 28, 2024, 09:39 AM IST\")]\n",
    "\n",
    "filtered_df.to_csv(\"refined_predictions.csv\",index=False)"
   ]
  },
  {
   "cell_type": "markdown",
   "metadata": {},
   "source": [
    "### Fetching Real World Data from Yahoo Finance through API"
   ]
  },
  {
   "cell_type": "code",
   "execution_count": null,
   "metadata": {},
   "outputs": [],
   "source": [
    "import yfinance as yahooFinance\n",
    "import pandas as pd\n",
    "import os\n",
    "\n",
    "if \"stock_dataset\" not in os.listdir():\n",
    "    os.makedirs(\"./stock_dataset\")\n",
    "\n",
    "for stock in codes:\n",
    "    data=yahooFinance.Ticker(codes[stock])\n",
    "    df=pd.DataFrame(data.history(period=\"max\"))\n",
    "    df.index=df.index.date\n",
    "    df.to_csv(f\"stock_dataset/{stock}.csv\")"
   ]
  },
  {
   "cell_type": "code",
   "execution_count": null,
   "metadata": {},
   "outputs": [],
   "source": [
    "# import yfinance as yahooFinance\n",
    " \n",
    "# Tata_Motors = yahooFinance.Ticker(\"TATAMOTORS.NS\")\n",
    "# Ashok_Leyland = yahooFinance.Ticker(\"ASHOKLEY.NS\")\n",
    "# Mahindra = yahooFinance.Ticker(\"M&M.NS\")\n",
    "# Reliance = yahooFinance.Ticker(\"RELIANCE.NS\")\n",
    "# Maruti = yahooFinance.Ticker(\"MARUTI.NS\")\n",
    "# hdfc = yahooFinance.Ticker(\"HDFCBANK.NS\")\n",
    "# icici = yahooFinance.Ticker(\"ICICIBANK.NS\")\n",
    "# axis = yahooFinance.Ticker(\"AXISBANK.NS\")\n",
    "# sbi = yahooFinance.Ticker(\"SBIN.NS\")\n",
    "# hidalco = yahooFinance.Ticker(\"HINDALCO.BO\")\n",
    "\n",
    "# # Let us  get historical stock prices for Facebook \n",
    "# # covering the past few years.\n",
    "# # max->maximum number of daily prices available \n",
    "# # for Facebook.\n",
    "# # Valid options are 1d, 5d, 1mo, 3mo, 6mo, 1y, 2y, \n",
    "# # 5y, 10y and ytd.\n",
    "\n",
    "# import pandas as pd\n",
    "\n",
    "# df=pd.DataFrame(Maruti.history(period=\"3y\"))\n",
    "# df.index=df.index.date\n",
    "# df.to_csv(\"stock_dataset/Maruti Suzuki India Ltd.csv\")\n",
    "# df=pd.DataFrame(sbi.history(period=\"3y\"))\n",
    "# df.index=df.index.date\n",
    "# df.to_csv(\"stock_dataset/State Bank of India.csv\")\n",
    "# df=pd.DataFrame(axis.history(period=\"3y\"))\n",
    "# df.index=df.index.date\n",
    "# df.to_csv(\"stock_dataset/Axis Bank Ltd.csv\")\n",
    "# df=pd.DataFrame(icici.history(period=\"3y\"))\n",
    "# df.index=df.index.date\n",
    "# df.to_csv(\"stock_dataset/ICICI Bank Ltd.csv\")\n",
    "# df=pd.DataFrame(Reliance.history(period=\"3y\"))\n",
    "# df.index=df.index.date\n",
    "# df.to_csv(\"stock_dataset/Reliance Industries Ltd.csv\")\n",
    "# df=pd.DataFrame(Mahindra.history(period=\"3y\"))\n",
    "# df.index=df.index.date\n",
    "# df.to_csv(\"stock_dataset/Mahindra & Mahindra Ltd.csv\")\n",
    "# df=pd.DataFrame(Ashok_Leyland.history(period=\"3y\"))\n",
    "# df.index=df.index.date\n",
    "# df.to_csv(\"stock_dataset/Ashok Leyland Ltd.csv\")\n",
    "# df=pd.DataFrame(Tata_Motors.history(period=\"3y\"))\n",
    "# df.index=df.index.date\n",
    "# df.to_csv(\"stock_dataset/Tata Motors Ltd.csv\")\n",
    "# df=pd.DataFrame(hdfc.history(period=\"3y\"))\n",
    "# df.index=df.index.date\n",
    "# df.to_csv(\"stock_dataset/HDFC Bank Ltd.csv\")\n",
    "# df=pd.DataFrame(hidalco.history(period=\"3y\"))\n",
    "# df.index=df.index.date\n",
    "# df.to_csv(\"stock_dataset/Hindalco Industries Ltd.csv\")\n",
    "# df=pd.DataFrame(hidalco.history(period=\"3y\"))\n",
    "# df.index=df.index.date\n",
    "# df.to_csv(\"stock_dataset/Hindalco Industries Ltd.csv\")\n"
   ]
  },
  {
   "cell_type": "markdown",
   "metadata": {},
   "source": [
    "### Convert Stock Data To JSON format"
   ]
  },
  {
   "cell_type": "code",
   "execution_count": null,
   "metadata": {},
   "outputs": [],
   "source": [
    "# import json\n",
    "# import os\n",
    "# import pandas as pd\n",
    "\n",
    "# files=os.listdir(\"stock_dataset\")\n",
    "# # print(files)\n",
    "\n",
    "# data=[]\n",
    "# counter=1\n",
    "\n",
    "# for stock in files:\n",
    "#     d={\"data\":[]}\n",
    "#     df=pd.read_csv(f\"stock_dataset/{stock}\")\n",
    "#     name=stock.split(\".\")[0]\n",
    "#     d[\"name\"]=name\n",
    "#     d[\"id\"]=counter\n",
    "#     for ID,VALUE in df.iterrows():\n",
    "#         d['data'].append({\"date\":VALUE[\"Unnamed: 0\"],\"value\":VALUE.Close})\n",
    "#     counter+=1\n",
    "#     data.append(d)\n",
    "        \n",
    "# stocks_data=json.dumps(data,indent=2)\n",
    "\n",
    "# with open(\"Market_Stocks_Data\", \"w\") as json_file:\n",
    "#     json_file.write(stocks_data)\n",
    "\n",
    "# print(f\"JSON data has been saved to Market_Stocks_Data\")"
   ]
  },
  {
   "cell_type": "markdown",
   "metadata": {},
   "source": [
    "### Calculating Credibility Scores"
   ]
  },
  {
   "cell_type": "code",
   "execution_count": null,
   "metadata": {},
   "outputs": [
    {
     "data": {
      "text/plain": [
       "Series([], Name: count, dtype: int64)"
      ]
     },
     "execution_count": 15,
     "metadata": {},
     "output_type": "execute_result"
    }
   ],
   "source": [
    "import pandas as pd\n",
    "\n",
    "preds=pd.read_csv(\"refined_predictions.csv\")\n",
    "# preds.head()\n",
    "\n",
    "preds.source.value_counts()"
   ]
  },
  {
   "cell_type": "code",
   "execution_count": null,
   "metadata": {},
   "outputs": [],
   "source": [
    "def CRED_SCORE(preds2):    \n",
    "\n",
    "    from datetime import date, timedelta\n",
    "    from sklearn.metrics import mean_absolute_percentage_error\n",
    "\n",
    "    PREDICTIONS=[]\n",
    "    ACTUAL=[]\n",
    "    predictions=[]\n",
    "    for ID, DATA in preds2.iterrows():\n",
    "\n",
    "        if (date.today() - DATA['datetime']) > timedelta(days=30):\n",
    "            name=DATA.source\n",
    "\n",
    "            df = pd.read_csv(f\"stock_dataset/{DATA['stock']}.csv\")\n",
    "            df.index = pd.to_datetime(df[\"Unnamed: 0\"])\n",
    "            df.index=df.index.date\n",
    "\n",
    "            start_date = DATA['datetime']\n",
    "            end_date = start_date + timedelta(days=7)\n",
    "\n",
    "            df = df[(df.index >= start_date) & (df.index <= end_date)]\n",
    "\n",
    "            if DATA['advice'] == \"Buy\":\n",
    "                change = float(max(df['Close'])-df[df.index==DATA.datetime]['Close'])\n",
    "                PREDICTIONS.append(change)\n",
    "                ACTUAL.append(DATA.target)\n",
    "            else:\n",
    "                change = float(-min(df['Close'])+df[df.index==DATA.datetime]['Close'])\n",
    "                PREDICTIONS.append(change)\n",
    "                ACTUAL.append(DATA.target)\n",
    "\n",
    "        if  (date.today() - DATA['datetime']) < timedelta(days=14):\n",
    "            d2={ \"stockInfo\": DATA.stock_info,\n",
    "            \"date\": DATA.datetime.strftime('%Y-%m-%d'),\n",
    "            \"targetValue\": DATA.target,\n",
    "            \"advice\": DATA.advice}\n",
    "            predictions.append(d2)\n",
    "            \n",
    "    if (not ACTUAL) or (not PREDICTIONS):\n",
    "        return {\"score\":\"Not Available\",\"predictions\":predictions}\n",
    "    credibility=abs(mean_absolute_percentage_error(ACTUAL,PREDICTIONS))*10\n",
    "\n",
    "    return {\"score\":credibility.round(2),\"predictions\":predictions}"
   ]
  },
  {
   "cell_type": "code",
   "execution_count": null,
   "metadata": {},
   "outputs": [
    {
     "name": "stdout",
     "output_type": "stream",
     "text": [
      "JSON data has been saved to Market_Predictions\n"
     ]
    }
   ],
   "source": [
    "import json\n",
    "from langchain_ollama.llms import OllamaLLM\n",
    "\n",
    "counter=0\n",
    "json_file=[]\n",
    "\n",
    "model = OllamaLLM(model=\"llama3\") \n",
    "\n",
    "for person in preds[\"source\"].unique():\n",
    "    \n",
    "    d={}\n",
    "\n",
    "    preds2=preds[preds[\"source\"]==person]\n",
    "    preds2.datetime=pd.to_datetime(preds2.datetime)\n",
    "    preds2.datetime=preds2.datetime.dt.date\n",
    "    \n",
    "    d[\"id\"]= counter\n",
    "    d[\"name\"]= preds2.iloc[0].source\n",
    "    d[\"description\"]=model.invoke(f\"give a brief discription of {preds2.iloc[0].source} in one paragraph\")\n",
    "\n",
    "    d2=CRED_SCORE(preds2)\n",
    "    d[\"credibilityScore\"]=d2[\"score\"]\n",
    "    d[\"predictions\"]=d2[\"predictions\"]\n",
    "\n",
    "    json_file.append(d)\n",
    "\n",
    "    counter+=1\n",
    "\n",
    "# print(json_file)\n",
    "\n",
    "json_file=json.dumps(json_file,indent=2)\n",
    "\n",
    "with open(\"Market_Predictions\", \"w\") as js_file:\n",
    "    js_file.write(json_file)\n",
    "\n",
    "print(f\"JSON data has been saved to Market_Predictions\")"
   ]
  },
  {
   "cell_type": "code",
   "execution_count": null,
   "metadata": {},
   "outputs": [],
   "source": []
  }
 ],
 "metadata": {
  "kernelspec": {
   "display_name": "venv",
   "language": "python",
   "name": "python3"
  },
  "language_info": {
   "codemirror_mode": {
    "name": "ipython",
    "version": 3
   },
   "file_extension": ".py",
   "mimetype": "text/x-python",
   "name": "python",
   "nbconvert_exporter": "python",
   "pygments_lexer": "ipython3",
   "version": "3.12.4"
  }
 },
 "nbformat": 4,
 "nbformat_minor": 2
}
